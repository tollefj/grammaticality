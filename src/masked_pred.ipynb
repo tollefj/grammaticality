{
 "cells": [
  {
   "cell_type": "code",
   "execution_count": 10,
   "metadata": {},
   "outputs": [
    {
     "name": "stderr",
     "output_type": "stream",
     "text": [
      "Some weights of the model checkpoint at NbAiLab/nb-bert-base were not used when initializing BertForMaskedLM: ['cls.seq_relationship.bias', 'cls.seq_relationship.weight']\n",
      "- This IS expected if you are initializing BertForMaskedLM from the checkpoint of a model trained on another task or with another architecture (e.g. initializing a BertForSequenceClassification model from a BertForPreTraining model).\n",
      "- This IS NOT expected if you are initializing BertForMaskedLM from the checkpoint of a model that you expect to be exactly identical (initializing a BertForSequenceClassification model from a BertForSequenceClassification model).\n"
     ]
    }
   ],
   "source": [
    "from transformers import pipeline\n",
    "\n",
    "model = 'NbAiLab/nb-bert-base'\n",
    "pipe = pipeline('fill-mask', model=model)"
   ]
  },
  {
   "cell_type": "code",
   "execution_count": 12,
   "metadata": {},
   "outputs": [
    {
     "data": {
      "text/plain": [
       "'Katten satt på [MASK]'"
      ]
     },
     "execution_count": 12,
     "metadata": {},
     "output_type": "execute_result"
    }
   ],
   "source": [
    "sentence = \"Katten satt på matten\"\n",
    "\n",
    "import random\n",
    "import numpy\n",
    "\n",
    "random_idx = random.randint(0, len(sentence.split()) - 1)\n",
    "sentence = sentence.split()\n",
    "sentence[random_idx] = \"[MASK]\"\n",
    "sentence = \" \".join(sentence).strip()\n",
    "sentence"
   ]
  },
  {
   "cell_type": "code",
   "execution_count": 31,
   "metadata": {},
   "outputs": [
    {
     "name": "stdout",
     "output_type": "stream",
     "text": [
      "Katten på [MASK] matten -> høyeste (0.05)\n",
      "Katten [MASK] matten -> på (0.66)\n",
      "Katten [MASK] på matten -> lå (0.15)\n"
     ]
    }
   ],
   "source": [
    "# conditional selection of MASKS\n",
    "\n",
    "candidates = {\n",
    "    \"Katten [MASK] på matten\",\n",
    "    \"Katten [MASK] matten\",\n",
    "    \"Katten på [MASK] matten\",\n",
    "}\n",
    "for c in candidates:\n",
    "    res = pipe(c)\n",
    "    print(f\"{c} -> {res[0]['token_str']} ({round(res[0]['score'], 2)})\")"
   ]
  },
  {
   "cell_type": "code",
   "execution_count": 19,
   "metadata": {},
   "outputs": [
    {
     "data": {
      "text/plain": [
       "[{'score': 0.15121711790561676,\n",
       "  'token': 35469,\n",
       "  'token_str': 'lå',\n",
       "  'sequence': 'Katten lå på matten'},\n",
       " {'score': 0.12640845775604248,\n",
       "  'token': 45162,\n",
       "  'token_str': 'datt',\n",
       "  'sequence': 'Katten datt på matten'},\n",
       " {'score': 0.1040266826748848,\n",
       "  'token': 35293,\n",
       "  'token_str': 'satt',\n",
       "  'sequence': 'Katten satt på matten'},\n",
       " {'score': 0.06025950610637665,\n",
       "  'token': 100865,\n",
       "  'token_str': 'falt',\n",
       "  'sequence': 'Katten falt på matten'},\n",
       " {'score': 0.029020700603723526,\n",
       "  'token': 28952,\n",
       "  'token_str': 'stod',\n",
       "  'sequence': 'Katten stod på matten'}]"
      ]
     },
     "execution_count": 19,
     "metadata": {},
     "output_type": "execute_result"
    }
   ],
   "source": [
    "pipe(\"Katten [MASK] på matten\")"
   ]
  },
  {
   "cell_type": "code",
   "execution_count": 27,
   "metadata": {},
   "outputs": [
    {
     "data": {
      "text/plain": [
       "{'score': 0.7241280674934387,\n",
       " 'token': 10217,\n",
       " 'token_str': 'på',\n",
       " 'sequence': 'satt på matten'}"
      ]
     },
     "execution_count": 27,
     "metadata": {},
     "output_type": "execute_result"
    }
   ],
   "source": [
    "res = pipe(\"satt [MASK] matten\")\n",
    "res[0]"
   ]
  }
 ],
 "metadata": {
  "kernelspec": {
   "display_name": "wl-upgrade",
   "language": "python",
   "name": "python3"
  },
  "language_info": {
   "codemirror_mode": {
    "name": "ipython",
    "version": 3
   },
   "file_extension": ".py",
   "mimetype": "text/x-python",
   "name": "python",
   "nbconvert_exporter": "python",
   "pygments_lexer": "ipython3",
   "version": "3.9.16"
  },
  "orig_nbformat": 4
 },
 "nbformat": 4,
 "nbformat_minor": 2
}
