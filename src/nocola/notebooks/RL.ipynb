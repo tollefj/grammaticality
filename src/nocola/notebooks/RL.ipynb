{
 "cells": [
  {
   "cell_type": "code",
   "execution_count": 1,
   "metadata": {},
   "outputs": [],
   "source": [
    "import torch\n",
    "import torch.nn as nn\n",
    "import torch.optim as optim\n",
    "from transformers import BertTokenizer, BertForMaskedLM\n",
    "from torch.distributions.categorical import Categorical\n"
   ]
  },
  {
   "cell_type": "code",
   "execution_count": 2,
   "metadata": {},
   "outputs": [
    {
     "name": "stderr",
     "output_type": "stream",
     "text": [
      "Some weights of the model checkpoint at NbAiLab/nb-bert-base were not used when initializing BertForMaskedLM: ['cls.seq_relationship.bias', 'cls.seq_relationship.weight']\n",
      "- This IS expected if you are initializing BertForMaskedLM from the checkpoint of a model trained on another task or with another architecture (e.g. initializing a BertForSequenceClassification model from a BertForPreTraining model).\n",
      "- This IS NOT expected if you are initializing BertForMaskedLM from the checkpoint of a model that you expect to be exactly identical (initializing a BertForSequenceClassification model from a BertForSequenceClassification model).\n"
     ]
    },
    {
     "data": {
      "text/plain": [
       "BertForMaskedLM(\n",
       "  (bert): BertModel(\n",
       "    (embeddings): BertEmbeddings(\n",
       "      (word_embeddings): Embedding(119547, 768, padding_idx=0)\n",
       "      (position_embeddings): Embedding(512, 768)\n",
       "      (token_type_embeddings): Embedding(2, 768)\n",
       "      (LayerNorm): LayerNorm((768,), eps=1e-12, elementwise_affine=True)\n",
       "      (dropout): Dropout(p=0.1, inplace=False)\n",
       "    )\n",
       "    (encoder): BertEncoder(\n",
       "      (layer): ModuleList(\n",
       "        (0-11): 12 x BertLayer(\n",
       "          (attention): BertAttention(\n",
       "            (self): BertSelfAttention(\n",
       "              (query): Linear(in_features=768, out_features=768, bias=True)\n",
       "              (key): Linear(in_features=768, out_features=768, bias=True)\n",
       "              (value): Linear(in_features=768, out_features=768, bias=True)\n",
       "              (dropout): Dropout(p=0.1, inplace=False)\n",
       "            )\n",
       "            (output): BertSelfOutput(\n",
       "              (dense): Linear(in_features=768, out_features=768, bias=True)\n",
       "              (LayerNorm): LayerNorm((768,), eps=1e-12, elementwise_affine=True)\n",
       "              (dropout): Dropout(p=0.1, inplace=False)\n",
       "            )\n",
       "          )\n",
       "          (intermediate): BertIntermediate(\n",
       "            (dense): Linear(in_features=768, out_features=3072, bias=True)\n",
       "            (intermediate_act_fn): GELUActivation()\n",
       "          )\n",
       "          (output): BertOutput(\n",
       "            (dense): Linear(in_features=3072, out_features=768, bias=True)\n",
       "            (LayerNorm): LayerNorm((768,), eps=1e-12, elementwise_affine=True)\n",
       "            (dropout): Dropout(p=0.1, inplace=False)\n",
       "          )\n",
       "        )\n",
       "      )\n",
       "    )\n",
       "  )\n",
       "  (cls): BertOnlyMLMHead(\n",
       "    (predictions): BertLMPredictionHead(\n",
       "      (transform): BertPredictionHeadTransform(\n",
       "        (dense): Linear(in_features=768, out_features=768, bias=True)\n",
       "        (transform_act_fn): GELUActivation()\n",
       "        (LayerNorm): LayerNorm((768,), eps=1e-12, elementwise_affine=True)\n",
       "      )\n",
       "      (decoder): Linear(in_features=768, out_features=119547, bias=True)\n",
       "    )\n",
       "  )\n",
       ")"
      ]
     },
     "execution_count": 2,
     "metadata": {},
     "output_type": "execute_result"
    }
   ],
   "source": [
    "model_name = \"NbAiLab/nb-bert-base\"\n",
    "tokenizer = BertTokenizer.from_pretrained(model_name)\n",
    "bert_model = BertForMaskedLM.from_pretrained(model_name)\n",
    "bert_model.eval()"
   ]
  },
  {
   "cell_type": "code",
   "execution_count": 3,
   "metadata": {},
   "outputs": [],
   "source": [
    "class SentenceCompressionAgent(nn.Module):\n",
    "    def __init__(self, bert_model):\n",
    "        super(SentenceCompressionAgent, self).__init__()\n",
    "        self.bert_model = bert_model\n",
    "\n",
    "    def forward(self, input_ids):\n",
    "        outputs = self.bert_model(input_ids)\n",
    "        action_probs = torch.softmax(outputs.logits, dim=-1)\n",
    "        return action_probs\n"
   ]
  },
  {
   "cell_type": "code",
   "execution_count": 4,
   "metadata": {},
   "outputs": [],
   "source": [
    "agent = SentenceCompressionAgent(bert_model)\n",
    "optimizer = optim.Adam(agent.parameters(), lr=1e-5)\n"
   ]
  },
  {
   "cell_type": "code",
   "execution_count": 5,
   "metadata": {},
   "outputs": [],
   "source": [
    "def sample_action(action_probs):\n",
    "    action_dist = Categorical(action_probs)\n",
    "    action = action_dist.sample()\n",
    "    return action.item()\n"
   ]
  },
  {
   "cell_type": "code",
   "execution_count": 19,
   "metadata": {},
   "outputs": [
    {
     "name": "stdout",
     "output_type": "stream",
     "text": [
      "p(s) = -10.7843\n"
     ]
    },
    {
     "ename": "",
     "evalue": "",
     "output_type": "error",
     "traceback": [
      "\u001b[1;31mThe Kernel crashed while executing code in the the current cell or a previous cell. Please review the code in the cell(s) to identify a possible cause of the failure. Click <a href='https://aka.ms/vscodeJupyterKernelCrash'>here</a> for more info. View Jupyter <a href='command:jupyter.viewOutput'>log</a> for further details."
     ]
    }
   ],
   "source": [
    "def sentence_probability(sentence, tokenizer, model):\n",
    "    input_ids = tokenizer.encode(sentence, return_tensors=\"pt\")\n",
    "    with torch.no_grad():\n",
    "        outputs = model(input_ids, labels=input_ids)\n",
    "    loss = outputs.loss.item()\n",
    "    return -loss\n",
    "\n",
    "def fitness_function(sentence, compressed_sentence, tokenizer, model):\n",
    "    p_s1 = sentence_probability(sentence, tokenizer, model)\n",
    "    p_s2 = sentence_probability(compressed_sentence, tokenizer, model)\n",
    "    return p_s1 - p_s2\n",
    "\n",
    "def reward_function(sentence, compressed_sentence, tokenizer, model):\n",
    "    fitness = fitness_function(sentence, compressed_sentence, tokenizer, model)\n",
    "    reward = -fitness  # We want to maximize the reward, which is the negation of the fitness\n",
    "    return reward\n",
    "\n",
    "# test the probability of a sentence:\n",
    "sentence = \"Dette er en setning\"\n",
    "sentence = \"dette setning\"\n",
    "sentence = \"setning\"\n",
    "p_s = sentence_probability(sentence, tokenizer, bert_model)\n",
    "print(f\"p(s) = {p_s:.4f}\")"
   ]
  },
  {
   "cell_type": "code",
   "execution_count": 7,
   "metadata": {},
   "outputs": [],
   "source": [
    "def generate_compressed_sentence(sentence, tokenizer, agent):\n",
    "    input_ids = tokenizer.encode(sentence, return_tensors=\"pt\")\n",
    "    action_probs = agent(input_ids)\n",
    "    compressed_tokens = []\n",
    "\n",
    "    for token, action_prob in zip(tokenizer.tokenize(sentence), action_probs.squeeze(0)):\n",
    "        action = sample_action(action_prob)\n",
    "        if action == 0:  # If the action is 0, we keep the word\n",
    "            compressed_tokens.append(token)\n",
    "\n",
    "    compressed_sentence = tokenizer.convert_tokens_to_string(compressed_tokens)\n",
    "    return compressed_sentence\n"
   ]
  },
  {
   "cell_type": "code",
   "execution_count": 10,
   "metadata": {},
   "outputs": [],
   "source": [
    "# data:\n",
    "path = \"/Users/tollef/Downloads/git/PHD/SUMMARIZATION/grammaticality/src/data/nocola/datasets/NoCoLa_zero.txt\"\n",
    "with open(path, \"r\") as f:\n",
    "    # parallel data: ERROR_SENTENCE, CORRECT_SENT, ERROR_TYPE\n",
    "    data = [line.strip().split(\"\\t\") for line in f.readlines()]"
   ]
  },
  {
   "cell_type": "code",
   "execution_count": 13,
   "metadata": {},
   "outputs": [],
   "source": [
    "# create a dataloder class for the parallel data:\n",
    "error_sents = [line[0] for line in data][:100]\n",
    "correct_sents = [line[1] for line in data][:100]"
   ]
  },
  {
   "cell_type": "code",
   "execution_count": 15,
   "metadata": {},
   "outputs": [
    {
     "data": {
      "application/vnd.jupyter.widget-view+json": {
       "model_id": "840fabf2ffee4649bb8dfee69419883e",
       "version_major": 2,
       "version_minor": 0
      },
      "text/plain": [
       "Output()"
      ]
     },
     "metadata": {},
     "output_type": "display_data"
    },
    {
     "data": {
      "text/html": [
       "<pre style=\"white-space:pre;overflow-x:auto;line-height:normal;font-family:Menlo,'DejaVu Sans Mono',consolas,'Courier New',monospace\"></pre>\n"
      ],
      "text/plain": []
     },
     "metadata": {},
     "output_type": "display_data"
    },
    {
     "data": {
      "text/html": [
       "<pre style=\"white-space:pre;overflow-x:auto;line-height:normal;font-family:Menlo,'DejaVu Sans Mono',consolas,'Courier New',monospace\">\n",
       "</pre>\n"
      ],
      "text/plain": [
       "\n"
      ]
     },
     "metadata": {},
     "output_type": "display_data"
    },
    {
     "ename": "KeyboardInterrupt",
     "evalue": "",
     "output_type": "error",
     "traceback": [
      "\u001b[0;31m---------------------------------------------------------------------------\u001b[0m",
      "\u001b[0;31mKeyboardInterrupt\u001b[0m                         Traceback (most recent call last)",
      "Cell \u001b[0;32mIn[15], line 21\u001b[0m\n\u001b[1;32m     18\u001b[0m                 action_dist \u001b[39m=\u001b[39m Categorical(action_probs)\n\u001b[1;32m     19\u001b[0m                 actions \u001b[39m=\u001b[39m [sample_action(action_prob) \u001b[39mfor\u001b[39;00m action_prob \u001b[39min\u001b[39;00m action_probs\u001b[39m.\u001b[39msqueeze(\u001b[39m0\u001b[39m)]\n\u001b[0;32m---> 21\u001b[0m train_agent(agent, tokenizer, correct_sents)\n",
      "Cell \u001b[0;32mIn[15], line 13\u001b[0m, in \u001b[0;36mtrain_agent\u001b[0;34m(agent, tokenizer, sentences, epochs, batch_size)\u001b[0m\n\u001b[1;32m     10\u001b[0m total_loss \u001b[39m=\u001b[39m \u001b[39m0\u001b[39m\n\u001b[1;32m     12\u001b[0m \u001b[39mfor\u001b[39;00m sentence \u001b[39min\u001b[39;00m batch_sentences:\n\u001b[0;32m---> 13\u001b[0m     compressed_sentence \u001b[39m=\u001b[39m generate_compressed_sentence(sentence, tokenizer, agent)\n\u001b[1;32m     14\u001b[0m     reward \u001b[39m=\u001b[39m reward_function(sentence, compressed_sentence, tokenizer, bert_model)\n\u001b[1;32m     16\u001b[0m     input_ids \u001b[39m=\u001b[39m tokenizer\u001b[39m.\u001b[39mencode(sentence, return_tensors\u001b[39m=\u001b[39m\u001b[39m\"\u001b[39m\u001b[39mpt\u001b[39m\u001b[39m\"\u001b[39m)\n",
      "Cell \u001b[0;32mIn[7], line 7\u001b[0m, in \u001b[0;36mgenerate_compressed_sentence\u001b[0;34m(sentence, tokenizer, agent)\u001b[0m\n\u001b[1;32m      4\u001b[0m compressed_tokens \u001b[39m=\u001b[39m []\n\u001b[1;32m      6\u001b[0m \u001b[39mfor\u001b[39;00m token, action_prob \u001b[39min\u001b[39;00m \u001b[39mzip\u001b[39m(tokenizer\u001b[39m.\u001b[39mtokenize(sentence), action_probs\u001b[39m.\u001b[39msqueeze(\u001b[39m0\u001b[39m)):\n\u001b[0;32m----> 7\u001b[0m     action \u001b[39m=\u001b[39m sample_action(action_prob)\n\u001b[1;32m      8\u001b[0m     \u001b[39mif\u001b[39;00m action \u001b[39m==\u001b[39m \u001b[39m0\u001b[39m:  \u001b[39m# If the action is 0, we keep the word\u001b[39;00m\n\u001b[1;32m      9\u001b[0m         compressed_tokens\u001b[39m.\u001b[39mappend(token)\n",
      "Cell \u001b[0;32mIn[5], line 3\u001b[0m, in \u001b[0;36msample_action\u001b[0;34m(action_probs)\u001b[0m\n\u001b[1;32m      1\u001b[0m \u001b[39mdef\u001b[39;00m \u001b[39msample_action\u001b[39m(action_probs):\n\u001b[1;32m      2\u001b[0m     action_dist \u001b[39m=\u001b[39m Categorical(action_probs)\n\u001b[0;32m----> 3\u001b[0m     action \u001b[39m=\u001b[39m action_dist\u001b[39m.\u001b[39;49msample()\n\u001b[1;32m      4\u001b[0m     \u001b[39mreturn\u001b[39;00m action\u001b[39m.\u001b[39mitem()\n",
      "File \u001b[0;32m/opt/anaconda3/envs/CRAC23/lib/python3.9/site-packages/torch/distributions/categorical.py:118\u001b[0m, in \u001b[0;36mCategorical.sample\u001b[0;34m(self, sample_shape)\u001b[0m\n\u001b[1;32m    116\u001b[0m     sample_shape \u001b[39m=\u001b[39m torch\u001b[39m.\u001b[39mSize(sample_shape)\n\u001b[1;32m    117\u001b[0m probs_2d \u001b[39m=\u001b[39m \u001b[39mself\u001b[39m\u001b[39m.\u001b[39mprobs\u001b[39m.\u001b[39mreshape(\u001b[39m-\u001b[39m\u001b[39m1\u001b[39m, \u001b[39mself\u001b[39m\u001b[39m.\u001b[39m_num_events)\n\u001b[0;32m--> 118\u001b[0m samples_2d \u001b[39m=\u001b[39m torch\u001b[39m.\u001b[39;49mmultinomial(probs_2d, sample_shape\u001b[39m.\u001b[39;49mnumel(), \u001b[39mTrue\u001b[39;49;00m)\u001b[39m.\u001b[39mT\n\u001b[1;32m    119\u001b[0m \u001b[39mreturn\u001b[39;00m samples_2d\u001b[39m.\u001b[39mreshape(\u001b[39mself\u001b[39m\u001b[39m.\u001b[39m_extended_shape(sample_shape))\n",
      "\u001b[0;31mKeyboardInterrupt\u001b[0m: "
     ]
    }
   ],
   "source": [
    "# progress bar with rich:\n",
    "from rich.progress import track\n",
    "\n",
    "def train_agent(agent, tokenizer, sentences, epochs=1, batch_size=32):\n",
    "    for epoch in range(epochs):\n",
    "        for i in track(range(0, len(sentences), batch_size)):\n",
    "            batch_sentences = sentences[i: i + batch_size]\n",
    "\n",
    "            optimizer.zero_grad()\n",
    "            total_loss = 0\n",
    "\n",
    "            for sentence in batch_sentences:\n",
    "                compressed_sentence = generate_compressed_sentence(sentence, tokenizer, agent)\n",
    "                reward = reward_function(sentence, compressed_sentence, tokenizer, bert_model)\n",
    "\n",
    "                input_ids = tokenizer.encode(sentence, return_tensors=\"pt\")\n",
    "                action_probs = agent(input_ids)\n",
    "                action_dist = Categorical(action_probs)\n",
    "                actions = [sample_action(action_prob) for action_prob in action_probs.squeeze(0)]\n",
    "\n",
    "train_agent(agent, tokenizer, correct_sents)"
   ]
  }
 ],
 "metadata": {
  "kernelspec": {
   "display_name": "CRAC23",
   "language": "python",
   "name": "python3"
  },
  "language_info": {
   "codemirror_mode": {
    "name": "ipython",
    "version": 3
   },
   "file_extension": ".py",
   "mimetype": "text/x-python",
   "name": "python",
   "nbconvert_exporter": "python",
   "pygments_lexer": "ipython3",
   "version": "3.9.16"
  },
  "orig_nbformat": 4
 },
 "nbformat": 4,
 "nbformat_minor": 2
}
