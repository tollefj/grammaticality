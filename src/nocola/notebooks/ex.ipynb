{
 "cells": [
  {
   "cell_type": "code",
   "execution_count": 1,
   "metadata": {},
   "outputs": [],
   "source": [
    "import spacy \n",
    "nlp = spacy.load(\"nb_core_news_md\")"
   ]
  },
  {
   "cell_type": "code",
   "execution_count": 2,
   "metadata": {},
   "outputs": [],
   "source": [
    "s = \"Jeg har ikke lenger lyst å jobbe første året som au-pair, vaskehjelp, butikkmedarbeider etc, for å ha bedre sjanse til å få en bedre jobb etterpå.\"\n",
    "s_wrong = \"Jeg har ikke lenger lyst å jobbe første året som au-pair, vaskehjelp, butikkmedarbeider etc, for å ha bedre kjans sjanse til å få en bedre jobb etterpå.\"\n",
    "error = \"R\""
   ]
  },
  {
   "cell_type": "code",
   "execution_count": null,
   "metadata": {},
   "outputs": [],
   "source": []
  }
 ],
 "metadata": {
  "kernelspec": {
   "display_name": "base",
   "language": "python",
   "name": "python3"
  },
  "language_info": {
   "codemirror_mode": {
    "name": "ipython",
    "version": 3
   },
   "file_extension": ".py",
   "mimetype": "text/x-python",
   "name": "python",
   "nbconvert_exporter": "python",
   "pygments_lexer": "ipython3",
   "version": "3.9.13"
  },
  "orig_nbformat": 4
 },
 "nbformat": 4,
 "nbformat_minor": 2
}
