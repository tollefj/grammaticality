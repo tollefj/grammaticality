{
 "cells": [
  {
   "cell_type": "code",
   "execution_count": 1,
   "metadata": {},
   "outputs": [],
   "source": [
    "import sys\n",
    "sys.path.append('..')\n",
    "from nocola_to_df import get_df\n",
    "from datasets import Dataset\n",
    "from sentence_transformers.losses import CosineSimilarityLoss\n",
    "from setfit import SetFitModel, SetFitTrainer\n",
    "from models import SBERT_MODEL\n",
    "import pandas as pd\n",
    "from sklearn.preprocessing import LabelEncoder\n",
    "from constants import label_mapping"
   ]
  },
  {
   "cell_type": "code",
   "execution_count": 5,
   "metadata": {},
   "outputs": [
    {
     "name": "stdout",
     "output_type": "stream",
     "text": [
      "{0.0: 90, 2.0: 74, 6.0: 73, 4.0: 62, 3.0: 59, 5.0: 49, 9.0: 28, 10.0: 10, 1.0: 8}\n",
      "{0.0: 41, 2.0: 32, 6.0: 31, 3.0: 27, 4.0: 25, 5.0: 21, 9.0: 12, 10.0: 4, 1.0: 3}\n",
      "{0.0: 41, 6.0: 34, 2.0: 31, 3.0: 29, 4.0: 27, 5.0: 19, 9.0: 13, 10.0: 5, 1.0: 3}\n"
     ]
    }
   ],
   "source": [
    "train_df = get_df(split=\"train\")\n",
    "dev_df = get_df(split=\"dev\")\n",
    "test_df = get_df(split=\"test\")\n",
    "\n",
    "train_df[\"label\"] = train_df[\"label\"].map(label_mapping)\n",
    "test_df[\"label\"] = test_df[\"label\"].map(label_mapping)\n",
    "dev_df[\"label\"] = dev_df[\"label\"].map(label_mapping)\n",
    "\n",
    "def get_reduced_dataframe(df, min_samples=8):\n",
    "    # proportion of each label, based on the minimum label\n",
    "    proportion = df.label.value_counts() / min_samples\n",
    "    # normalize it, so the lowest value is 1:\n",
    "    proportion = proportion  / proportion.min()\n",
    "    # multiply each by 8 (so that we ensure at least 8 samples)\n",
    "    proportion = proportion * min_samples\n",
    "    proportion = proportion.apply(round)\n",
    "    proportion = proportion.to_dict()\n",
    "    print(proportion)\n",
    "    \n",
    "    subset_dfs = []\n",
    "    for label, desired_count in proportion.items():\n",
    "        label_df = df[df['label'] == label]\n",
    "        subset_dfs.append(label_df.sample(n=desired_count, random_state=42))\n",
    "    subset = pd.concat(subset_dfs, axis=0).reset_index(drop=True)\n",
    "    return subset\n",
    "\n",
    "subset_train = get_reduced_dataframe(train_df, min_samples=8)\n",
    "subset_eval = get_reduced_dataframe(dev_df, min_samples=3)\n",
    "subset_test = get_reduced_dataframe(test_df, min_samples=3)\n",
    "\n",
    "dataset = Dataset.from_pandas(subset_train)\n",
    "dataset_test = Dataset.from_pandas(subset_test)\n",
    "dataset_eval = Dataset.from_pandas(subset_eval)"
   ]
  },
  {
   "cell_type": "code",
   "execution_count": 7,
   "metadata": {},
   "outputs": [
    {
     "name": "stderr",
     "output_type": "stream",
     "text": [
      "model_head.pkl not found on HuggingFace Hub, initialising classification head with random weights. You should TRAIN this model on a downstream task to use it for predictions and inference.\n"
     ]
    },
    {
     "data": {
      "application/vnd.jupyter.widget-view+json": {
       "model_id": "9a79f4f51568463598a5ec8904d58075",
       "version_major": 2,
       "version_minor": 0
      },
      "text/plain": [
       "Generating Training Pairs:   0%|          | 0/20 [00:00<?, ?it/s]"
      ]
     },
     "metadata": {},
     "output_type": "display_data"
    },
    {
     "name": "stderr",
     "output_type": "stream",
     "text": [
      "***** Running training *****\n",
      "  Num examples = 18120\n",
      "  Num epochs = 1\n",
      "  Total optimization steps = 1133\n",
      "  Total train batch size = 16\n"
     ]
    },
    {
     "data": {
      "application/vnd.jupyter.widget-view+json": {
       "model_id": "265c1f6539a1489f8e5dbc63b998dc76",
       "version_major": 2,
       "version_minor": 0
      },
      "text/plain": [
       "Epoch:   0%|          | 0/1 [00:00<?, ?it/s]"
      ]
     },
     "metadata": {},
     "output_type": "display_data"
    },
    {
     "data": {
      "application/vnd.jupyter.widget-view+json": {
       "model_id": "12928ee79a8349398e7698e8d9dbd476",
       "version_major": 2,
       "version_minor": 0
      },
      "text/plain": [
       "Iteration:   0%|          | 0/1133 [00:00<?, ?it/s]"
      ]
     },
     "metadata": {},
     "output_type": "display_data"
    },
    {
     "name": "stderr",
     "output_type": "stream",
     "text": [
      "The `max_length` is `None`. Using the maximum acceptable length according to the current model body: 75.\n"
     ]
    },
    {
     "data": {
      "application/vnd.jupyter.widget-view+json": {
       "model_id": "df448b7c909f463293686e8fa0d60844",
       "version_major": 2,
       "version_minor": 0
      },
      "text/plain": [
       "Epoch:   0%|          | 0/25 [00:00<?, ?it/s]"
      ]
     },
     "metadata": {},
     "output_type": "display_data"
    },
    {
     "name": "stderr",
     "output_type": "stream",
     "text": [
      "***** Running evaluation *****\n"
     ]
    },
    {
     "name": "stdout",
     "output_type": "stream",
     "text": [
      "{'accuracy': 0.15816326530612246}\n"
     ]
    }
   ],
   "source": [
    "num_classes = len(dataset.unique(\"label\"))\n",
    "\n",
    "sfit_model = SetFitModel.from_pretrained(\n",
    "    SBERT_MODEL,\n",
    "    use_differentiable_head=True,\n",
    "    head_params={\"out_features\": num_classes},\n",
    ")\n",
    "#Note: If you use the differentiable SetFitHead classifier head, it will automatically use BCEWithLogitsLoss for training.\n",
    "# The prediction involves a sigmoid after which probabilities are rounded to 1 or 0.\n",
    "# Furthermore, the \"one-vs-rest\" and \"multi-output\" multi-target strategies are equivalent for the differentiable SetFitHead.\n",
    "# Create trainer\n",
    "sfit_model.to(\"mps\")\n",
    "trainer = SetFitTrainer(\n",
    "    model=sfit_model,\n",
    "    train_dataset=dataset,\n",
    "    eval_dataset=dataset_eval,\n",
    "    loss_class=CosineSimilarityLoss,\n",
    "    metric=\"accuracy\",\n",
    "    batch_size=16,\n",
    "    num_iterations=20, # Number of text pairs to generate for contrastive learning\n",
    "    num_epochs=1, # Number of epochs to use for contrastive learning\n",
    ")\n",
    "trainer.freeze()\n",
    "trainer.train()\n",
    "trainer.unfreeze(keep_body_frozen=True)\n",
    "trainer.train(\n",
    "    num_epochs=25,\n",
    "    batch_size=16,\n",
    "    body_learning_rate=1e-5,  # LR of body\n",
    "    learning_rate=1e-2,  # LR of head\n",
    "    l2_weight=0.0\n",
    ")\n",
    "metrics = trainer.evaluate()\n",
    "print(metrics)"
   ]
  },
  {
   "cell_type": "code",
   "execution_count": 9,
   "metadata": {},
   "outputs": [
    {
     "data": {
      "text/plain": [
       "SetFitModel()"
      ]
     },
     "execution_count": 9,
     "metadata": {},
     "output_type": "execute_result"
    }
   ],
   "source": [
    "model = trainer.model\n",
    "model"
   ]
  },
  {
   "cell_type": "code",
   "execution_count": 17,
   "metadata": {},
   "outputs": [
    {
     "data": {
      "text/plain": [
       "{'text': ['De nye forbilder er nå blitt popstjerner, \"Spidermann\", \"Pokemón\" og så videre, og foreldrene, som er opptatt med seg selv, ikke er så viktige lenger.',\n",
       "  'Hvis man liker å være isolert, det passer bedre å bo på fjellet eller i skogen, men hvis man trives med mennesker, er det mye bedre å bo i byen.',\n",
       "  'det var min mening.',\n",
       "  'Jeg Håper at jeg klarer denne testen, og kanskje Bergenstesten, for å ha bedre sjanse til å komme inn.',\n",
       "  'Det er viktig at man finner på en aktivitet, for da får man mulighet til bli kjent med andre. Man kan alltid Lære noe positivt fra dem.',\n",
       "  'Et annet spørsmål er organdonasjon fra dyr. her er det nok mange som igjen vil se det som forkastelig å \"blande\" dyr med mennesker.',\n",
       "  'I mitt hjemland, Nederland, snakker de fleste engelsk, sånn at man ikke føler seg helt isolert i begynnelsen, men over lengre tid lønner det seg å snakke Nederlandsk for å komme seg med i det sosiale livet.',\n",
       "  'For eksempel kan de bruke tiden på etterutdanning, kunst, musikk osv. Når du er alene, kan folk slappe av og glemme stresset fra jobbet.',\n",
       "  'Det er én ting som vi kan unngå, forurensning av vannen.',\n",
       "  'Nå er det blitt vanskeligere for oss å akseptere at vi er forskjellige og at alle er fine og pene på sin egen måte, at det ikke finnes mønstrer for hva som er vakkert og hva som ikke er det.'],\n",
       " 'label': [9.0, 9.0, 10.0, 10.0, 10.0, 10.0, 10.0, 1.0, 1.0, 1.0]}"
      ]
     },
     "execution_count": 17,
     "metadata": {},
     "output_type": "execute_result"
    }
   ],
   "source": [
    "dataset_test[-10:]"
   ]
  },
  {
   "cell_type": "code",
   "execution_count": null,
   "metadata": {},
   "outputs": [],
   "source": [
    "decoding = {v:k for k,v in label_mapping.items()}"
   ]
  },
  {
   "cell_type": "code",
   "execution_count": 27,
   "metadata": {},
   "outputs": [
    {
     "data": {
      "text/plain": [
       "label\n",
       "0.0     41\n",
       "6.0     34\n",
       "2.0     31\n",
       "3.0     29\n",
       "4.0     27\n",
       "5.0     19\n",
       "9.0     13\n",
       "10.0     5\n",
       "1.0      3\n",
       "Name: count, dtype: int64"
      ]
     },
     "execution_count": 27,
     "metadata": {},
     "output_type": "execute_result"
    }
   ],
   "source": [
    "subset_test.label.value_counts()"
   ]
  },
  {
   "cell_type": "code",
   "execution_count": 32,
   "metadata": {},
   "outputs": [
    {
     "data": {
      "text/plain": [
       "label\n",
       "0.0     41\n",
       "6.0     34\n",
       "2.0     31\n",
       "3.0     29\n",
       "4.0     27\n",
       "5.0     19\n",
       "9.0     13\n",
       "10.0     5\n",
       "1.0      3\n",
       "Name: count, dtype: int64"
      ]
     },
     "execution_count": 32,
     "metadata": {},
     "output_type": "execute_result"
    }
   ],
   "source": [
    "subset_test.label.value_counts()"
   ]
  },
  {
   "cell_type": "code",
   "execution_count": 33,
   "metadata": {},
   "outputs": [
    {
     "data": {
      "text/html": [
       "<div>\n",
       "<style scoped>\n",
       "    .dataframe tbody tr th:only-of-type {\n",
       "        vertical-align: middle;\n",
       "    }\n",
       "\n",
       "    .dataframe tbody tr th {\n",
       "        vertical-align: top;\n",
       "    }\n",
       "\n",
       "    .dataframe thead th {\n",
       "        text-align: right;\n",
       "    }\n",
       "</style>\n",
       "<table border=\"1\" class=\"dataframe\">\n",
       "  <thead>\n",
       "    <tr style=\"text-align: right;\">\n",
       "      <th></th>\n",
       "      <th>text</th>\n",
       "      <th>label</th>\n",
       "    </tr>\n",
       "  </thead>\n",
       "  <tbody>\n",
       "    <tr>\n",
       "      <th>0</th>\n",
       "      <td>Han kan lage middag til familien og viser at m...</td>\n",
       "      <td>0.0</td>\n",
       "    </tr>\n",
       "    <tr>\n",
       "      <th>1</th>\n",
       "      <td>Det aller viktigste for å ikke bli for tykk, e...</td>\n",
       "      <td>0.0</td>\n",
       "    </tr>\n",
       "    <tr>\n",
       "      <th>2</th>\n",
       "      <td>Mannen min og jeg kan kjøre bare noen minutter...</td>\n",
       "      <td>0.0</td>\n",
       "    </tr>\n",
       "    <tr>\n",
       "      <th>3</th>\n",
       "      <td>Noen var lei av å være hjemme, og de var depri...</td>\n",
       "      <td>0.0</td>\n",
       "    </tr>\n",
       "    <tr>\n",
       "      <th>4</th>\n",
       "      <td>Livet går videre, og vi må rett og slett gjøre...</td>\n",
       "      <td>0.0</td>\n",
       "    </tr>\n",
       "  </tbody>\n",
       "</table>\n",
       "</div>"
      ],
      "text/plain": [
       "                                                text  label\n",
       "0  Han kan lage middag til familien og viser at m...    0.0\n",
       "1  Det aller viktigste for å ikke bli for tykk, e...    0.0\n",
       "2  Mannen min og jeg kan kjøre bare noen minutter...    0.0\n",
       "3  Noen var lei av å være hjemme, og de var depri...    0.0\n",
       "4  Livet går videre, og vi må rett og slett gjøre...    0.0"
      ]
     },
     "execution_count": 33,
     "metadata": {},
     "output_type": "execute_result"
    }
   ],
   "source": [
    "subset_test.head()"
   ]
  },
  {
   "cell_type": "code",
   "execution_count": 50,
   "metadata": {},
   "outputs": [
    {
     "name": "stderr",
     "output_type": "stream",
     "text": [
      "9it [00:00, 40.14it/s]"
     ]
    },
    {
     "name": "stdout",
     "output_type": "stream",
     "text": [
      "Han kan lage middag til familien og viser at matlaging ikke bare er for kvinner.\n",
      "Truth: F, Pred: M\n",
      "\n",
      "Det aller viktigste for å ikke bli for tykk, er vel en sunt kosthold, der frukt og grønnsaker spiller en stor rolle.\n",
      "Truth: F, Pred: PUNC\n",
      "\n",
      "Mannen min og jeg kan kjøre bare noen minutter og være ute i natur.\n",
      "Truth: F, Pred: M\n",
      "\n",
      "Noen var lei av å være hjemme, og de var deprimerte, fordi de ikke hadde sosiale kontakt med andre voksne.\n",
      "Truth: F, Pred: M\n",
      "\n",
      "Livet går videre, og vi må rett og slett gjøre noe for å bevare våre miljø som skal gitt videre til våre neste generasjoner.\n",
      "Truth: F, Pred: W\n",
      "\n",
      "Hos oss er det ganske ensomme av og til.\n",
      "Truth: F, Pred: M\n",
      "\n",
      "Det var ikke lett å bo i Norge frem til og med for 80 år siden, og det tror jeg er hovedgrunnen til hvorfor nordmenn er rolig og at de alltid vil hjelpe hvis du spør om hjelp.\n",
      "Truth: F, Pred: M\n",
      "\n",
      "Dårlige vaner hjemme kunne følge med en til et annet sted, men nye vaner burde man ta vare på, som for eksempel hvordan man gjør ting i dagliglivet osv.\n",
      "Truth: F, Pred: PUNC\n",
      "\n",
      "Jeg var mange ganger på sykehuset eller på skole når jeg hadde praksistimer som logoped, og jeg kunne se at det ikke var så lett å få kontakt med de små pasientene.\n",
      "Truth: F, Pred: F\n",
      "\n"
     ]
    },
    {
     "name": "stderr",
     "output_type": "stream",
     "text": [
      "14it [00:00, 38.31it/s]"
     ]
    },
    {
     "name": "stdout",
     "output_type": "stream",
     "text": [
      "Hvis du handle på Internett, var det veldig farlig, fordi andre kunne gå inn i dine betalingsmidler og bruke dine penger.\n",
      "Truth: F, Pred: ORT\n",
      "\n",
      "Det er veldig lett å gjøre det hvis de trenger litt. Etter hvert ble behov for varer større og større.\n",
      "Truth: F, Pred: ORT\n",
      "\n",
      "Flomen rammer disse landene hardt.\n",
      "Truth: F, Pred: W\n",
      "\n",
      "Jeg synes at hvis man ikke vil bli forstyrret, må man også sørge for at andre ikke bli forstyrret av en.\n",
      "Truth: F, Pred: R\n",
      "\n",
      "Hvordan er været i Kosovo om vinter og om sommeren?\n",
      "Truth: F, Pred: R\n",
      "\n",
      "Det finnes mange likheter og ulikheter mellom nærmiljø i Norge og i Ukraina.\n",
      "Truth: F, Pred: PUNC\n",
      "\n",
      "Barna får muligheter til å få den beste utdannelse og utviklingen fordi de kan studere ved private skoler.\n",
      "Truth: F, Pred: R\n",
      "\n",
      "Hun er den moderne forfatter og det er veldig interessant å lese bøkene hennes.\n",
      "Truth: F, Pred: F\n",
      "\n",
      "Jeg har lest en bok en gang.\n",
      "Truth: F, Pred: W\n",
      "\n"
     ]
    },
    {
     "name": "stderr",
     "output_type": "stream",
     "text": [
      "24it [00:00, 42.20it/s]"
     ]
    },
    {
     "name": "stdout",
     "output_type": "stream",
     "text": [
      "Men for det meste får vi dårlige nyheter, om ulykke, om sult, om arbeidsledighet, om flyktninger, om krig osv.\n",
      "Truth: F, Pred: M\n",
      "\n",
      "Det er ofte veldig viktig å tar seg lang tid til å se etter hvordan de lokale menneskene oppfører seg, så vi kan bli kjent med deres sosiale koder.\n",
      "Truth: F, Pred: W\n",
      "\n",
      "Den beste vi kan gjøre er å være snille å sortere søppel og kaste det på riktig plass, og regjeringer kan i større grad fokusere på gjenvinning og resirkulering… Alt som jeg har skrevet om, er bare en liten del av forurensningen som har forårsaket klimaendringene.\n",
      "Truth: F, Pred: F\n",
      "\n",
      "Vold, kriger og mange dystre ting som påvirker barnas tankene.\n",
      "Truth: F, Pred: PUNC\n",
      "\n",
      "Her finnes det en stor verden av forskjellige produkter, tilgjengelig på et bitteliten skjerm.\n",
      "Truth: F, Pred: ORT\n",
      "\n",
      "Det beste vi kan gjøre er å være snille å sortere søppel og kaste dem på riktig plass, og regjeringer kan i større grad fokusere på gjenvinning og resirkulering… Alt som jeg har skrevet om, er bare en liten del av forurensningen som har forårsaket klimaendringene.\n",
      "Truth: F, Pred: F\n",
      "\n",
      "Svaret var at kongen har kreft i urinblæren.\n",
      "Truth: F, Pred: F\n",
      "\n",
      "Han må få vite at han er like viktig som de andre barn.\n",
      "Truth: F, Pred: F\n",
      "\n",
      "Jeg tror at selv om voksne (gammel papegøyer) ikke kan lære å snakke perfekt norsk, så kan vi likevel lære å snakke et fint språk.\n",
      "Truth: F, Pred: M\n",
      "\n",
      "Det er fint om sommer i Oslo, med midnattsol.\n",
      "Truth: F, Pred: R\n",
      "\n"
     ]
    },
    {
     "name": "stderr",
     "output_type": "stream",
     "text": [
      "34it [00:00, 43.96it/s]"
     ]
    },
    {
     "name": "stdout",
     "output_type": "stream",
     "text": [
      "Senere ble alle bøkene som han skrev veldig populært hos både barn og voksne.\n",
      "Truth: F, Pred: ORT\n",
      "\n",
      "Men samarbeid med EU er likevel utstrakt.\n",
      "Truth: F, Pred: W\n",
      "\n",
      "I november 2003 var det 42% som sa \"ja\" til norsk medlemskap, 36% utgjorde \"nei-side\", mens 22% av de spurte svarte \"vet ikke\".\n",
      "Truth: F, Pred: W\n",
      "\n",
      "Hvis en se at barna gjør noe galt, må en si det, ikke vente.\n",
      "Truth: F, Pred: F\n",
      "\n",
      "Det er viktig for barn også, fordi tradisjonene lærer dem om landet deres og familien sin.\n",
      "Truth: F, Pred: M\n",
      "\n",
      "Så, på grunn av nye tekniske muligheter, kan vi få vite, høre eller se \"ferske\" informasjon.\n",
      "Truth: F, Pred: M\n",
      "\n",
      "Flytting er noe som kjennetegner min fortid og mitt liv har blitt sterk påvirket av det.\n",
      "Truth: F, Pred: ORT\n",
      "\n",
      "Vi alle støtter kong Harald på vår egen måten.\n",
      "Truth: F, Pred: F\n",
      "\n",
      "De tenker på alle det gode et barn bringer til livet.\n",
      "Truth: F, Pred: W\n",
      "\n",
      "Forholdene i familier er vanligvis veldig varme.\n",
      "Truth: F, Pred: PUNC\n",
      "\n"
     ]
    },
    {
     "name": "stderr",
     "output_type": "stream",
     "text": [
      "44it [00:01, 44.86it/s]"
     ]
    },
    {
     "name": "stdout",
     "output_type": "stream",
     "text": [
      "Det første jeg gjorde etter at jeg hadde sjekket inn på hotel, var å lete etter en god restaurant.\n",
      "Truth: F, Pred: ORT\n",
      "\n",
      "Det gjorde vond å forlate dem på grunn av vårt veldig lange og hyggelige vennskap.\n",
      "Truth: F, Pred: M\n",
      "\n",
      "Et annet problem når du har en mobil, er at folk blir sint når du ikke har den på hele tiden.\n",
      "Truth: F, Pred: F\n",
      "\n",
      "Mennesker liker å møte hverandre på mange ulike steder for eksempel på kafeer, i klubber, organisasjoner og lag.\n",
      "Truth: PUNC, Pred: ORT\n",
      "\n",
      "Barna mine har fått et normalt liv igjen, vi trives og jobber, går på skole og forstyrrer ingen og ingen forstyrrer oss.\n",
      "Truth: PUNC, Pred: R\n",
      "\n",
      "Det er mange argumenter som kan brukes i denne diskusjonen og alle har sin vekt.\n",
      "Truth: PUNC, Pred: ORT\n",
      "\n",
      "Jeg driver også med sport, så jeg er medlem på et treningssenter og der trener jeg mye, nesten hver dag. Der treffer jeg til og med mange kjente, og jeg synes at det er gøy å trene sammen med dem.\n",
      "Truth: PUNC, Pred: PUNC\n",
      "\n",
      "De forskerne som lager dette mønsteret, uttrykker at i gjennomsnitt, har flere gutter enn jenter en systematisk hjerne, og flere jenter en empatisk hjerne.\n",
      "Truth: PUNC, Pred: PUNC\n",
      "\n",
      "Å spise sammen betyr mye for alle, å snakke sammen betyr å føle hverandre uten berøring.\n",
      "Truth: PUNC, Pred: ORT\n",
      "\n"
     ]
    },
    {
     "name": "stderr",
     "output_type": "stream",
     "text": [
      "54it [00:01, 44.56it/s]"
     ]
    },
    {
     "name": "stdout",
     "output_type": "stream",
     "text": [
      "Som vi alle vet, har det skjedd en stor bevegelse i de siste åra når det gjelder lærernes høye lønnsøkning i forhold til andre yrkesgrupper.\n",
      "Truth: PUNC, Pred: PUNC\n",
      "\n",
      "Det er ikke så mange som fortsetter med alle disse spennende tradisjoner selv om Oslo er et svært katolsk land.\n",
      "Truth: PUNC, Pred: W\n",
      "\n",
      "Å jobbe på sykehjem er ikke lett, fordi på sykehjem bor eldre mennesker og det er ikke lett å snakke med dem når du lærer språket.\n",
      "Truth: PUNC, Pred: M\n",
      "\n",
      "Da må vi dra til kirken alle sammen og barna velsignes der.\n",
      "Truth: PUNC, Pred: F\n",
      "\n",
      "De sa at alt var under kontroll Uansett har kongen blitt sykemeldt.\n",
      "Truth: PUNC, Pred: PUNC\n",
      "\n",
      "Det gjelder ikke bare oss-utlendinger, men også norske barn.\n",
      "Truth: PUNC, Pred: W\n",
      "\n",
      "En kvinne måtte ikke tenke på seg selv og hun måtte være den perfekte husmor.\n",
      "Truth: PUNC, Pred: F\n",
      "\n",
      "I matvarebutikken er det mye større utvalg enn for 20 år siden og de frister folk til å kjøpe.\n",
      "Truth: PUNC, Pred: M\n",
      "\n",
      "Og det er kjempefint synes jeg.\n",
      "Truth: PUNC, Pred: M\n",
      "\n",
      "Om \"det beste landet å bo i\" må jeg si noe som sikkert gjelder for alle innvandrere.\n",
      "Truth: PUNC, Pred: PUNC\n",
      "\n"
     ]
    },
    {
     "name": "stderr",
     "output_type": "stream",
     "text": [
      "64it [00:01, 44.64it/s]"
     ]
    },
    {
     "name": "stdout",
     "output_type": "stream",
     "text": [
      "Kommunistene var kommet tilbake i regjeringen og jeg måtte rømme ut av landet fordi mitt liv var i fare.\n",
      "Truth: PUNC, Pred: INFL\n",
      "\n",
      "Dersom en kaster et raskt blikk på rike Norge så tar staten ansvar dersom vi ikke har arbeid.\n",
      "Truth: PUNC, Pred: W\n",
      "\n",
      "Vi pleide å skrive for å kommunisere bedre fordi vi hadde ikke så mange ord og uttrykk til å uttrykke oss med, og vi snakket ikke så klart, og uttalen var dårlig også.\n",
      "Truth: PUNC, Pred: F\n",
      "\n",
      "Gradvis ble mobiltelefoner mer og mer vanlige og i dag har mennesker i alle aldersgrupper mobiltelefon.\n",
      "Truth: PUNC, Pred: PUNC\n",
      "\n",
      "Og når du først får en venn så er det mye du må gjøre for å beholde han.\n",
      "Truth: PUNC, Pred: F\n",
      "\n",
      "Man tenker ikke hver dag over hvor viktig det er å ha venner, men når man er trist vet man hvor viktig vennskap er.\n",
      "Truth: PUNC, Pred: PUNC\n",
      "\n",
      "Vi vil bare ha mer og merDet er galt, ikke sant?\n",
      "Truth: PUNC, Pred: F\n",
      "\n",
      "Hva foregår på gata, og hvordan vi kan og må oppføre oss på gata og i bilen.\n",
      "Truth: PUNC, Pred: ORT\n",
      "\n",
      "Jeg synes det er kjedelig og jeg kan bli gal av det. Jeg synes det er fint å ha venner på skolen.\n",
      "Truth: PUNC, Pred: PUNC\n",
      "\n",
      "Sommeren er kort og ikke mange ganger ser man sola her.\n",
      "Truth: PUNC, Pred: M\n",
      "\n"
     ]
    },
    {
     "name": "stderr",
     "output_type": "stream",
     "text": [
      "74it [00:01, 44.82it/s]"
     ]
    },
    {
     "name": "stdout",
     "output_type": "stream",
     "text": [
      "Når jeg treffer vennene mine, liker jeg å fortelle dem om det nye som har skjedd med meg, for eksempel på skolen, hjemme eller mange andre ting og faktisk liker de å prate om det som skjer med dem selv. Noen ganger liker jeg å møte dem hos meg, så kan vi spise, eller leie og se en god film.\n",
      "Truth: PUNC, Pred: M\n",
      "\n",
      "Vi har en båt, den er ikke så stor men vi er så glad for å ha den.\n",
      "Truth: PUNC, Pred: M\n",
      "\n",
      "Da hun var ferdig med skolen fikk hun en veldig bra jobb og tjente masse penger.\n",
      "Truth: PUNC, Pred: PUNC\n",
      "\n",
      "Jeg kunne ikke norsk og jeg husker at da jeg hørte det norske språket, forstod jeg ingenting.\n",
      "Truth: PUNC, Pred: M\n",
      "\n",
      "Verden forandrer seg raskt og hvis man ikke følger med på hendelser, blir man uvitende, og så å si isolert.\n",
      "Truth: PUNC, Pred: R\n",
      "\n",
      "Jeg liker å sy, strikke, lage mat og mine nye norske venninner kommer ofte på besøk for å prate om alt mulig.\n",
      "Truth: PUNC, Pred: M\n",
      "\n",
      "Og man kan gi dem mat, klær og et sted hvor de kan føle seg trygge og aksepterte. særlig hvis man jobber med barn.\n",
      "Truth: PUNC, Pred: F\n",
      "\n",
      "Hvis den utviklingen får lov til å fortsette seg over en lengre periode kommer folkets behov til å forandre seg.\n",
      "Truth: PUNC, Pred: W\n",
      "\n",
      "Men jeg var fast beslutt på å ikke inngå et vennskap med en falsk person.\n",
      "Truth: W, Pred: R\n",
      "\n",
      "Jeg har to små gutter, og det er litt trist at der ikke finnes andre barn rundt oss å leke med for guttene.\n",
      "Truth: W, Pred: F\n",
      "\n"
     ]
    },
    {
     "name": "stderr",
     "output_type": "stream",
     "text": [
      "84it [00:01, 44.79it/s]"
     ]
    },
    {
     "name": "stdout",
     "output_type": "stream",
     "text": [
      "De opererte ham med en gang i sykehuset, og legen sa at han kunne ha vært død uten mobiltelefon.\n",
      "Truth: W, Pred: F\n",
      "\n",
      "Det finnes stadig flere unge som vil studere i stedet for å gjøre en utdanning eller gå i lære.\n",
      "Truth: W, Pred: M\n",
      "\n",
      "Tiden før brukte jeg til å lese for min 1. statseksamen i Oslo.\n",
      "Truth: W, Pred: ORT\n",
      "\n",
      "Imidlertid er en ikke integrert ennå.\n",
      "Truth: W, Pred: W\n",
      "\n",
      "Jeg startet å bli kjent med nordmenn lenge før jeg reiste hit.\n",
      "Truth: W, Pred: M\n",
      "\n",
      "Du kan besøke en kamp, som mange gjør, og føle spenningen, skuffelsen, og glede.\n",
      "Truth: W, Pred: PUNC\n",
      "\n",
      "Hvis en utlending snakker samme språket som folk i det landet han bor i nå, får de bedre muligheter og forutsetninger for å finne fram.\n",
      "Truth: W, Pred: W\n",
      "\n",
      "Hos oss er der ganske ensomt av og til.\n",
      "Truth: W, Pred: M\n",
      "\n",
      "I våre dager lever folk mye lengre enn det var mulig før.\n",
      "Truth: W, Pred: M\n",
      "\n"
     ]
    },
    {
     "name": "stderr",
     "output_type": "stream",
     "text": [
      "94it [00:02, 43.76it/s]"
     ]
    },
    {
     "name": "stdout",
     "output_type": "stream",
     "text": [
      "Da jeg kom til Norge, var jeg helt overrasket av naturen her.\n",
      "Truth: W, Pred: W\n",
      "\n",
      "Vi bor i et lite sted, og det er vanskelig å finne jobb der, men vi kommer til å prøve alt for å finne jobb akkurat på det stedet.\n",
      "Truth: W, Pred: ORT\n",
      "\n",
      "Jeg bor i et område hvor jeg må ta lang tid på å komme til bussholdeplassen.\n",
      "Truth: W, Pred: M\n",
      "\n",
      "Når jeg ikke har fått brev på lang tid fra en god venn som normalt skriver snart tilbake, begynner jeg å sørge litt.\n",
      "Truth: W, Pred: W\n",
      "\n",
      "Alle tradisjoner som er viktige for de som bor i landet som du flytter til, skulle kunne bli lette nok å forstå hvis du bare undersøker dem litt i forveien.\n",
      "Truth: W, Pred: PUNC\n",
      "\n",
      "Uten å måtte skynde seg, eller å takle et raskt tempo i livet, uten å bli nervøs og stressende.\n",
      "Truth: W, Pred: PUNC\n",
      "\n",
      "Mennene er større fysisk enn kvinnene, og det er mange jobber som trenger det. Men i de meste jobbene trenger bedriftene også den \"mykere\" siden for å få gjort en oppgave.\n",
      "Truth: W, Pred: ORT\n",
      "\n",
      "Det sier jeg fordi jeg er fra Oslo, og det er stor forskjell på samfunnet i Oslo enn her i Norge.\n",
      "Truth: W, Pred: F\n",
      "\n",
      "I Oslo var jeg ikke så opptatt om natur.\n",
      "Truth: W, Pred: F\n",
      "\n"
     ]
    },
    {
     "name": "stderr",
     "output_type": "stream",
     "text": [
      "104it [00:02, 44.89it/s]"
     ]
    },
    {
     "name": "stdout",
     "output_type": "stream",
     "text": [
      "Jeg vet at nordmenn er svært stolt til å gå på fjelltur og ski.\n",
      "Truth: W, Pred: W\n",
      "\n",
      "Hunden hjelper både for humøret og for å komme seg ut.\n",
      "Truth: W, Pred: M\n",
      "\n",
      "Og vi har eksempel på dette i Balkan.\n",
      "Truth: W, Pred: R\n",
      "\n",
      "Noen av ulempene som énpersons-husholdninger har, er at folk kanskje er alene altfor mye.\n",
      "Truth: W, Pred: M\n",
      "\n",
      "Jeg liker å skrive litt om vennskap når det er flere hundre kilometer mellom venner.\n",
      "Truth: W, Pred: R\n",
      "\n",
      "Av og til må jeg vente ganske lenge på å få svar for brevene mine, og det er ikke alltid så lett.\n",
      "Truth: W, Pred: W\n",
      "\n",
      "Jeg vil gjøre det hele livet, mener jeg.\n",
      "Truth: W, Pred: F\n",
      "\n",
      "Da hun døde etter et langt liv, ble hun berømt som forfatter og beundret av samfunnet for sin hjelp om kvinnesaken.\n",
      "Truth: W, Pred: W\n",
      "\n",
      "Jeg og kjæresten min fant et forlatt hus for å bo i.\n",
      "Truth: W, Pred: M\n",
      "\n",
      "Dikteren fremhever at venner er sjeldne, somlysen de stuer langt bort i fjellmørket.\n",
      "Truth: W, Pred: ORT\n",
      "\n"
     ]
    },
    {
     "name": "stderr",
     "output_type": "stream",
     "text": [
      "114it [00:02, 45.32it/s]"
     ]
    },
    {
     "name": "stdout",
     "output_type": "stream",
     "text": [
      "Trygde- og pensjonsordninger overtar rollen av barn som alderssikring.\n",
      "Truth: W, Pred: W\n",
      "\n",
      "Jeg kunne lese og studere på originalspråket romanene og diktene som berømte forfattere som Molière, Rousseau, Diderot, Hugo, Bolzac, Beaudelaire, Maupessant osv. hadde skrevet.\n",
      "Truth: ORT, Pred: W\n",
      "\n",
      "Det er en huggelig opplevelse for meg.\n",
      "Truth: ORT, Pred: M\n",
      "\n",
      "For oss som kommer fra land som har liknende kultur og er her i Norge, er det lit lettere enn for de som er svarte og har store kulturforskjeller.\n",
      "Truth: ORT, Pred: PUNC\n",
      "\n",
      "Det er alltid plass til en til, og det er ingen sam forventer at en nødvendigvis skal betale for seg.\n",
      "Truth: ORT, Pred: F\n",
      "\n",
      "Nesten ingen sier at penger er viktgere enn familie, men mange oppfører seg som om det er hva de virkelig mener.\n",
      "Truth: ORT, Pred: F\n",
      "\n",
      "Heretter skal vi ikke bestille billietter gjennom et norsk reisebyrå.\n",
      "Truth: ORT, Pred: R\n",
      "\n",
      "Alle dyr som var i kontakt med dette middelet, fikk store forandringer på kjønnsorganene, de ble misdannet, både i utsende og størrelse.\n",
      "Truth: ORT, Pred: ORT\n",
      "\n",
      "Ifølge statistikken øker gjennomsnitsvekten i befolkningen verden over.\n",
      "Truth: ORT, Pred: ORT\n",
      "\n",
      "Det var en gård. eiren heter Jones og gården heter “ Manor farm \".\n",
      "Truth: ORT, Pred: F\n",
      "\n"
     ]
    },
    {
     "name": "stderr",
     "output_type": "stream",
     "text": [
      "124it [00:02, 44.75it/s]"
     ]
    },
    {
     "name": "stdout",
     "output_type": "stream",
     "text": [
      "Der synger jeg sopran, noe som gleder meg veldig mye fordi jeg er kjempeglad i synging og i komponistene vi pleier å singe, for ikke å snakke om at jeg er flink å synge.\n",
      "Truth: ORT, Pred: F\n",
      "\n",
      "Et aspekt til, som jeg også synes at er viktig, er å vise interes for andre kulturer og mennesker.\n",
      "Truth: ORT, Pred: M\n",
      "\n",
      "På den tiden var det vanlig at mer enn en generasjon bodde sammen.\n",
      "Truth: ORT, Pred: W\n",
      "\n",
      "Skogsbrann og andre slags branner skader også miljøet.\n",
      "Truth: ORT, Pred: PUNC\n",
      "\n",
      "Alle vet at røyk er årssaken til kreft og dårlig helse.\n",
      "Truth: ORT, Pred: ORT\n",
      "\n",
      "Mann kan tenke på hva slags kaféer eller restauranter en plass har?\n",
      "Truth: ORT, Pred: M\n",
      "\n",
      "Jeg sitter bare med ett inntrykk av politikerne, de tenker kun på å redde statsbudsjettet og seg selv, og de nyetablerte for Gud ta seg av.\n",
      "Truth: ORT, Pred: W\n",
      "\n",
      "Vi har kjøpt et fint hus nå her i dette området, og en ting jeg liker veldig godt, er at barn kan leke på gaten, i skogen og på gresset utten å stå i hundedrit.\n",
      "Truth: ORT, Pred: M\n",
      "\n",
      "Det mannlige dyret er ofte veldig opptatt av å beskyte sitt territorium, å sørge før at han overlever og å fortsette sin species ved å ha 'barn' med flest mulig 'kvinner'.\n",
      "Truth: ORT, Pred: ORT\n",
      "\n"
     ]
    },
    {
     "name": "stderr",
     "output_type": "stream",
     "text": [
      "134it [00:03, 45.32it/s]"
     ]
    },
    {
     "name": "stdout",
     "output_type": "stream",
     "text": [
      "Men hvis foreldrene er på jobb og barna er allene hjemme, ser de selvfølgelig på det.\n",
      "Truth: ORT, Pred: M\n",
      "\n",
      "Vi lager forsjellig mat, og vi spiser sammen. Noen ganger fisker vi, og noen ganger jakter vi.\n",
      "Truth: ORT, Pred: R\n",
      "\n",
      "I tillegg er det lettere å legge merke til de menneskene som har farlige religiose ideer, og stoppe dem.\n",
      "Truth: ORT, Pred: ORT\n",
      "\n",
      "Så mange ganger fant jeg ikke ord eller utrykk.\n",
      "Truth: ORT, Pred: F\n",
      "\n",
      "En annen ulemp er at folk blir eldre, og hvis de bor alene, har de ingen som kan passe på dem.\n",
      "Truth: ORT, Pred: M\n",
      "\n",
      "Men noen kan gjøre det når han er voksen dersom de ikke jorde det før.\n",
      "Truth: ORT, Pred: PUNC\n",
      "\n",
      "Jeg tror at årsaken er at mange mennesker er veldig optatt med yrket sitt, og liker å ha fritid og gjøre helt forskjellige ting enn i det normale yrkeslivet.\n",
      "Truth: ORT, Pred: M\n",
      "\n",
      "I butikkene fines mange nyere mobiltelefoner med kamera, MP3 og radio, men jeg vil ikke kjøpe den nyeste mobiltelefonen.\n",
      "Truth: ORT, Pred: F\n",
      "\n",
      "Alle professjonele sangere puster riktig og fritt.\n",
      "Truth: ORT, Pred: ORT\n",
      "\n",
      "Det skal være rom for utvikling for bege sider, ellers vokser man fra hverandre.\n",
      "Truth: ORT, Pred: W\n",
      "\n"
     ]
    },
    {
     "name": "stderr",
     "output_type": "stream",
     "text": [
      "144it [00:03, 46.18it/s]"
     ]
    },
    {
     "name": "stdout",
     "output_type": "stream",
     "text": [
      "Så kommer vi til del nummer to: fra den fjerde setningen til den sjekte setningen.\n",
      "Truth: ORT, Pred: F\n",
      "\n",
      "\"Jeg har ikke glemt deg\", i det øyeblikket kommer gleden.\n",
      "Truth: M, Pred: M\n",
      "\n",
      "Jeg tror at årsaken er at mange mennesker er veldig opptatt med yrket sitt, og liker å ha fritid og gjøre helt forskjellige ting enn i normale yrkeslivet.\n",
      "Truth: M, Pred: M\n",
      "\n",
      "Fotball er en av eldste idrettene som er tilgjengelig for alle mennesker.\n",
      "Truth: M, Pred: PUNC\n",
      "\n",
      "I Norge derimot, bor generasjonene lenge sammen.\n",
      "Truth: M, Pred: W\n",
      "\n",
      "Fabrikker – Her har mennesker muligheter til å få jobb i forskjellige fabrikker, og staten her i Norge har et stort budsjett og har mulighet for å hjelpe de menneskene som har en sykdom eller har vært en ulykke, som ikke har disse mulighetene der nede i Oslo.\n",
      "Truth: M, Pred: W\n",
      "\n",
      "Jeg er veldig glad i å jobbe på sykehjem, og nå har jeg planer å bli hjelpepleier.\n",
      "Truth: M, Pred: M\n",
      "\n",
      "Norge er ennå ikke medlem av EU, men betaler cirka 150 millioner kroner årlig likevel, bare de ikke skriker det fra taket.\n",
      "Truth: M, Pred: W\n",
      "\n",
      "Det med å noen å passe på, beskytte og oppdra til et godt menneske, ligger i vår natur, som man ikke kan kjempe mot.\n",
      "Truth: M, Pred: F\n",
      "\n",
      "Jeg synes tradisjoner og kultur er veldig nært knyttet til hverandre, og at derfor er veldig lett for andre mennesker å misforstå hva man mener hvis man oppfører seg på feil måte eller slik som en selv er vant til.\n",
      "Truth: M, Pred: M\n",
      "\n"
     ]
    },
    {
     "name": "stderr",
     "output_type": "stream",
     "text": [
      "154it [00:03, 46.68it/s]"
     ]
    },
    {
     "name": "stdout",
     "output_type": "stream",
     "text": [
      "I tillegg er det mye mindre kriminalitet enn i Oslo eller andre hovedstader i Europa.\n",
      "Truth: M, Pred: R\n",
      "\n",
      "Derfor det mer folk på Internett nå enn før.\n",
      "Truth: M, Pred: R\n",
      "\n",
      "Hadde jeg tilpasse meg hvis jeg bodde i f.eks. et afrikansk land?\n",
      "Truth: M, Pred: W\n",
      "\n",
      "Derimot det å ha gode naboer som man kan prate litt med og ta en øl av og til, hjelper for å ha et hyggelig bomiljø.\n",
      "Truth: M, Pred: ORT\n",
      "\n",
      "De drar til eller kommer fra et sted til annet sted.\n",
      "Truth: M, Pred: W\n",
      "\n",
      "Det finnes flere årsaker at man prioriterer netthandelen enn en vanlig handel på butikker og varehus.\n",
      "Truth: M, Pred: R\n",
      "\n",
      "Hvorfor ville hun ikke meg?\n",
      "Truth: M, Pred: F\n",
      "\n",
      "Men sunn mat er ikke det eneste betydning for høy livskvalitet og god helse.\n",
      "Truth: M, Pred: PUNC\n",
      "\n",
      "Egentlig var det bare tradisjonen som tvang alle kvinner sitte hjemme.\n",
      "Truth: M, Pred: W\n",
      "\n",
      "Min første følelse av norske naturen var min overraskelse.\n",
      "Truth: M, Pred: F\n",
      "\n"
     ]
    },
    {
     "name": "stderr",
     "output_type": "stream",
     "text": [
      "164it [00:03, 45.60it/s]"
     ]
    },
    {
     "name": "stdout",
     "output_type": "stream",
     "text": [
      "Det letteste å svare på det, er at det er en person som jobber med mennesker.\n",
      "Truth: M, Pred: F\n",
      "\n",
      "Han liker å forsøke alt i naturen, og programmet hjelper ham, i tillegg til bøker.\n",
      "Truth: M, Pred: PUNC\n",
      "\n",
      "Jeg mener at når barna ser på programmene og filmene som er beregnet for voksne, kan de misforstå meningen og bruke det mot voksne og andre barn ved for eksempel bli frekke, uvennlige, voldsomme, aggressive.\n",
      "Truth: M, Pred: F\n",
      "\n",
      "Den reflekterte himmelen er brukt å gi en følelse av frihet og åpent landskap.\n",
      "Truth: M, Pred: R\n",
      "\n",
      "Hver nasjon trenger å ha en slags åndelig leder som kan samle rundt seg.\n",
      "Truth: M, Pred: W\n",
      "\n",
      "Mange har en jobb at de trenger å sitte hele arbeidsdagen.\n",
      "Truth: M, Pred: F\n",
      "\n",
      "Uten nyheter kan vi ikke vite om mange tingene som skjer i denne verden.\n",
      "Truth: M, Pred: W\n",
      "\n",
      "Det høres litt rart ut, men det er sant. Da jeg bodde i mitt hjemland, leste jeg veldig mye om Norge, om norske tradisjoner, historie, om geografi.\n",
      "Truth: M, Pred: PUNC\n",
      "\n",
      "I diktet prøver Lise så godt hun kan, men klarer ikke i nærheten så godt mye som den voksne.\n",
      "Truth: R, Pred: F\n",
      "\n",
      "Men vi tenker å flytte på oss i neste år.\n",
      "Truth: R, Pred: R\n",
      "\n"
     ]
    },
    {
     "name": "stderr",
     "output_type": "stream",
     "text": [
      "174it [00:03, 46.06it/s]"
     ]
    },
    {
     "name": "stdout",
     "output_type": "stream",
     "text": [
      "Derfor For å gjøre et sted trivelig å bo på, må dette stedet ha noe som passer til alle aldres smak.\n",
      "Truth: R, Pred: R\n",
      "\n",
      "Helseprodukter som av kosttilskudd, treningsutstyr, treningstid, litteratur om livsstil, ernæring osv. er blitt markante innslag i vår vestlige hverdag.\n",
      "Truth: R, Pred: PUNC\n",
      "\n",
      "Nesten alle bedrifter har hjemmesider hvor du man kan kjøpe eller bestille varer.\n",
      "Truth: R, Pred: W\n",
      "\n",
      "Det er lettere å bo på et sted som har en flyplass så man ikke trenger å kjøre for lenge for å reise ut av Norge.\n",
      "Truth: R, Pred: F\n",
      "\n",
      "Hvis du vil bli akseptert, tror jeg at det går fortere hvis du lærer den språket fra landet. Du må også lære om folket, religionen og fester.\n",
      "Truth: R, Pred: M\n",
      "\n",
      "Men hvis man ser på hovedmålene til EU med bekjempelse av fattidom fattigdom og å unngå konflikter i framtida, viser det seg at Norge og EU baserer seg på felles verdier og prinsipper.\n",
      "Truth: R, Pred: PUNC\n",
      "\n",
      "Det er viktig Det er viktig å fortelle barnet sannheten.\n",
      "Truth: R, Pred: F\n",
      "\n",
      "Så, hva som gjør sted trivelige?\n",
      "Truth: R, Pred: W\n",
      "\n",
      "Vårt problem er at vi heller vil å sitte og se sport på tv på søndager.\n",
      "Truth: R, Pred: F\n",
      "\n",
      "Det som er spesielt viktig er muligheten for kvinner å få de samme muligheter og den samme tilgang til utdanning.\n",
      "Truth: R, Pred: W\n",
      "\n"
     ]
    },
    {
     "name": "stderr",
     "output_type": "stream",
     "text": [
      "184it [00:04, 45.40it/s]"
     ]
    },
    {
     "name": "stdout",
     "output_type": "stream",
     "text": [
      "Men jeg synes at det viktigste er det samarbeidet mellom foreldre og skole.\n",
      "Truth: R, Pred: PUNC\n",
      "\n",
      "Tid og energi som ellers kunne ha blitt brukt på en mer konstruktiv måte til å bygge opp et godt forhold til barna, er brukt dårlig utnyttet.\n",
      "Truth: R, Pred: W\n",
      "\n",
      "Vi kan få ringe etter hjelp og så videre.\n",
      "Truth: R, Pred: M\n",
      "\n",
      "Spesielt i de samfunnene hvor kvinner har langt fra de samme mulighetene til utdanning, ser vi ganske stor forskjell mellom de yrkene menn er inn i og de yrkene kvinner er i.\n",
      "Truth: R, Pred: M\n",
      "\n",
      "Man kan også se r på det på en annen måte.\n",
      "Truth: R, Pred: F\n",
      "\n",
      "Alltid ringer det mobiltelefoner når man sitter på kino, teater eller konsert er, som er steder hvor jeg synes at det ikke er akseptabelt at man ikke slår av mobiltelefonen.\n",
      "Truth: R, Pred: F\n",
      "\n",
      "Jeg håper at jeg skal fortsette en dag å studere dette yrket i Norge, og endelig få r jobben som jeg liker best.\n",
      "Truth: R, Pred: M\n",
      "\n",
      "Jeg har vært glad i ro, men nå Jeg har ikke mulighet til å ha noen.\n",
      "Truth: O, Pred: F\n",
      "\n",
      "Eller hvordan vi kan få venner, eller hva en er god venn.\n",
      "Truth: O, Pred: PUNC\n",
      "\n",
      "Vi har en fest hver natt fra 16. til 24. desember, og vi synger for å be om et sted å bo, slik som gjorde Maria og Josef før Jesus ble født.\n",
      "Truth: O, Pred: ORT\n",
      "\n"
     ]
    },
    {
     "name": "stderr",
     "output_type": "stream",
     "text": [
      "194it [00:04, 46.29it/s]"
     ]
    },
    {
     "name": "stdout",
     "output_type": "stream",
     "text": [
      "Det er viktig for meg at hver uke vi gjør noen gøy sammen, sånn at hun har gode minner fra sin barndom.\n",
      "Truth: O, Pred: ORT\n",
      "\n",
      "Andre ungdommer er interessert i sport, så medler de seg inn i idrettsklubbene.\n",
      "Truth: O, Pred: M\n",
      "\n",
      "Denne diskusjonen har ført til en polarisering, hvor på en side står motstandere, og de som støtter innføring av private skoler på den andre siden.\n",
      "Truth: O, Pred: W\n",
      "\n",
      "Hvis alle mennesker er tolerante overfor andre, alle sammen har det bra.\n",
      "Truth: O, Pred: PUNC\n",
      "\n",
      "Det er mye som vi kan gjøre for unge når er de organisert.\n",
      "Truth: O, Pred: W\n",
      "\n",
      "Spesielt i Norge, ble jeg fortalt, er det ikke mulig å finne nok kvalifiserte kandidater på alle høgskoler, selv om norske ungdommer er stadig sterkere interessert i høyere teoretisk utdanning.\n",
      "Truth: O, Pred: M\n",
      "\n",
      "Hva foregår på gata og hvordan kan og må vi oppføre oss på gata og i bilen.\n",
      "Truth: O, Pred: F\n",
      "\n",
      "Det største er at de får sjansen å få et barn, noe de har kanskje drømt om.\n",
      "Truth: O, Pred: F\n",
      "\n",
      "De nye forbilder er nå blitt popstjerner, \"Spidermann\", \"Pokemón\" og så videre, og foreldrene, som er opptatt med seg selv, ikke er så viktige lenger.\n",
      "Truth: O, Pred: PUNC\n",
      "\n",
      "Hvis man liker å være isolert, det passer bedre å bo på fjellet eller i skogen, men hvis man trives med mennesker, er det mye bedre å bo i byen.\n",
      "Truth: O, Pred: F\n",
      "\n"
     ]
    },
    {
     "name": "stderr",
     "output_type": "stream",
     "text": [
      "202it [00:04, 44.78it/s]"
     ]
    },
    {
     "name": "stdout",
     "output_type": "stream",
     "text": [
      "det var min mening.\n",
      "Truth: CAP, Pred: PUNC\n",
      "\n",
      "Jeg Håper at jeg klarer denne testen, og kanskje Bergenstesten, for å ha bedre sjanse til å komme inn.\n",
      "Truth: CAP, Pred: R\n",
      "\n",
      "Det er viktig at man finner på en aktivitet, for da får man mulighet til bli kjent med andre. Man kan alltid Lære noe positivt fra dem.\n",
      "Truth: CAP, Pred: R\n",
      "\n",
      "Et annet spørsmål er organdonasjon fra dyr. her er det nok mange som igjen vil se det som forkastelig å \"blande\" dyr med mennesker.\n",
      "Truth: CAP, Pred: F\n",
      "\n",
      "I mitt hjemland, Nederland, snakker de fleste engelsk, sånn at man ikke føler seg helt isolert i begynnelsen, men over lengre tid lønner det seg å snakke Nederlandsk for å komme seg med i det sosiale livet.\n",
      "Truth: CAP, Pred: F\n",
      "\n",
      "For eksempel kan de bruke tiden på etterutdanning, kunst, musikk osv. Når du er alene, kan folk slappe av og glemme stresset fra jobbet.\n",
      "Truth: INFL, Pred: M\n",
      "\n",
      "Det er én ting som vi kan unngå, forurensning av vannen.\n",
      "Truth: INFL, Pred: R\n",
      "\n",
      "Nå er det blitt vanskeligere for oss å akseptere at vi er forskjellige og at alle er fine og pene på sin egen måte, at det ikke finnes mønstrer for hva som er vakkert og hva som ikke er det.\n",
      "Truth: INFL, Pred: F\n",
      "\n"
     ]
    },
    {
     "name": "stderr",
     "output_type": "stream",
     "text": [
      "\n"
     ]
    }
   ],
   "source": [
    "from tqdm import tqdm\n",
    "# iterate the test set, and get the predictions:\n",
    "truths = []\n",
    "preds = []\n",
    "for text, label in tqdm(zip(subset_test.text, subset_test.label)):\n",
    "    pred = model.predict(text).item()\n",
    "    pred = float(pred)\n",
    "    pred = decoding[pred]\n",
    "    truth = decoding[label]\n",
    "    print(text)\n",
    "    print(f\"Truth: {truth}, Pred: {pred}\")\n",
    "    print()\n",
    "    truths.append(truth)\n",
    "    preds.append(pred)"
   ]
  },
  {
   "cell_type": "code",
   "execution_count": 49,
   "metadata": {},
   "outputs": [
    {
     "name": "stdout",
     "output_type": "stream",
     "text": [
      "0.18811881188118812\n"
     ]
    }
   ],
   "source": [
    "accuracy = sum([1 for t,p in zip(truths, preds) if t == p]) / len(truths)\n"
   ]
  },
  {
   "cell_type": "code",
   "execution_count": 28,
   "metadata": {},
   "outputs": [
    {
     "data": {
      "text/plain": [
       "tensor([4], device='mps:0')"
      ]
     },
     "execution_count": 28,
     "metadata": {},
     "output_type": "execute_result"
    }
   ],
   "source": [
    "# do some predictions\n",
    "model([dataset_test[0][\"text\"]])"
   ]
  },
  {
   "cell_type": "code",
   "execution_count": null,
   "metadata": {},
   "outputs": [],
   "source": [
    "trainer.push_to_hub(\"tollefj/setfit-nocola-errortype-mps\")"
   ]
  }
 ],
 "metadata": {
  "kernelspec": {
   "display_name": "CRAC23",
   "language": "python",
   "name": "python3"
  },
  "language_info": {
   "codemirror_mode": {
    "name": "ipython",
    "version": 3
   },
   "file_extension": ".py",
   "mimetype": "text/x-python",
   "name": "python",
   "nbconvert_exporter": "python",
   "pygments_lexer": "ipython3",
   "version": "3.9.16"
  },
  "orig_nbformat": 4
 },
 "nbformat": 4,
 "nbformat_minor": 2
}
